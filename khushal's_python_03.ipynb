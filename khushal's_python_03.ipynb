{
 "cells": [
  {
   "cell_type": "code",
   "execution_count": null,
   "id": "5243a092",
   "metadata": {},
   "outputs": [],
   "source": [
    "Q:1=Write a Python function to get the largest number,smallest num \n",
    "    and sum of all from a list"
   ]
  },
  {
   "cell_type": "code",
   "execution_count": null,
   "id": "91d45f04",
   "metadata": {},
   "outputs": [],
   "source": [
    "a=[]\n",
    "size=int(input('enter size of list:'))\n",
    "for i in range(size):\n",
    "    val=int(input('enter number:'))\n",
    "    a.append(val)\n",
    "max=a[0]\n",
    "for i in range(size):\n",
    "    if(a[i]>max):\n",
    "        max=a[i]\n",
    "print('max number=',max)"
   ]
  },
  {
   "cell_type": "code",
   "execution_count": null,
   "id": "961d1373",
   "metadata": {},
   "outputs": [],
   "source": [
    "\n",
    "a=[]\n",
    "size=int(input('enter size of the list:'))\n",
    "for i in range(size):\n",
    "    val=int(input('enter number:'))\n",
    "    a.append(val) \n",
    "min=a[0]\n",
    "for i in range(size):\n",
    "    if (a[i]<min):\n",
    "        min=a[i]\n",
    "print('min number=',min)"
   ]
  },
  {
   "cell_type": "code",
   "execution_count": null,
   "id": "65640bff",
   "metadata": {},
   "outputs": [],
   "source": [
    "a=[]\n",
    "size=int(input('how many element you want to enter'))\n",
    "for i in range(size):\n",
    "    val=int(input('enter number:'))\n",
    "    a.append(val)\n",
    "sum=0\n",
    "for i in range(size):\n",
    "    sum=sum+a[i]\n",
    "print('sum of list element=',sum)    \n"
   ]
  },
  {
   "cell_type": "code",
   "execution_count": null,
   "id": "de5e9ade",
   "metadata": {},
   "outputs": [],
   "source": [
    "Q:2=Write a Python program to count the number of strings where the string \n",
    "    length is 2 or more and the first and last character are same from a \n",
    "    given ,list of strings."
   ]
  },
  {
   "cell_type": "code",
   "execution_count": null,
   "id": "04d4a05c",
   "metadata": {},
   "outputs": [],
   "source": [
    "s=0\n",
    "list1=['aba','121','kgf','abc']\n",
    "for x in list1:\n",
    "    if len(x) > 1 and x[0]==x[-1]:\n",
    "        print('the given words are:',x)\n",
    "        s=s+1\n",
    "print('no . of words you want',s)\n",
    "        "
   ]
  },
  {
   "cell_type": "code",
   "execution_count": null,
   "id": "0d5dc22e",
   "metadata": {},
   "outputs": [],
   "source": [
    "#Q:3=Write a Python program to remove duplicates from a list."
   ]
  },
  {
   "cell_type": "markdown",
   "id": "6c90b175",
   "metadata": {},
   "source": []
  },
  {
   "cell_type": "code",
   "execution_count": null,
   "id": "4073a1fe",
   "metadata": {},
   "outputs": [],
   "source": [
    "n=int(input('enter the number of element:'))\n",
    "l=[]\n",
    "for i in range(n):\n",
    "    ele=input('enter the element')\n",
    "    l.append(ele)\n",
    "print('my list',l)\n",
    "non_duplicate_value=set(l)\n",
    "print(non_duplicate_value)"
   ]
  },
  {
   "cell_type": "code",
   "execution_count": null,
   "id": "a944b00c",
   "metadata": {},
   "outputs": [],
   "source": [
    "Q:4=Write a Python program to check a list is empty or not."
   ]
  },
  {
   "cell_type": "code",
   "execution_count": null,
   "id": "77aca93d",
   "metadata": {},
   "outputs": [],
   "source": [
    "l=[]\n",
    "if not l:\n",
    "    print('list is empty')\n",
    "else:\n",
    "    print('list is filled')"
   ]
  },
  {
   "cell_type": "code",
   "execution_count": null,
   "id": "e6bbed0d",
   "metadata": {},
   "outputs": [],
   "source": [
    "Q:5=Write a Python function that takes two lists and returns true if they \n",
    "    have at least one common member."
   ]
  },
  {
   "cell_type": "code",
   "execution_count": null,
   "id": "0c2e665a",
   "metadata": {},
   "outputs": [],
   "source": [
    "list1=[1,2,3,4]\n",
    "list2=[6,7,8,9]\n",
    "for x in list1:\n",
    "    for y in list2:\n",
    "        if(x==y):\n",
    "            print('true')\n",
    "        else:\n",
    "            print('not')"
   ]
  },
  {
   "cell_type": "code",
   "execution_count": null,
   "id": "f3df086c",
   "metadata": {},
   "outputs": [],
   "source": [
    "Q:6=Write a Python program to generate and print a list of first and last 5 \n",
    "    elements where the values are square of numbers between 1 and 30."
   ]
  },
  {
   "cell_type": "code",
   "execution_count": null,
   "id": "940ff340",
   "metadata": {},
   "outputs": [],
   "source": []
  },
  {
   "cell_type": "code",
   "execution_count": null,
   "id": "da963a2e",
   "metadata": {},
   "outputs": [],
   "source": [
    "Q:7=Write a Python function that takes a list and returns a new \n",
    "    list with unique elements of the first list."
   ]
  },
  {
   "cell_type": "code",
   "execution_count": null,
   "id": "531cb308",
   "metadata": {},
   "outputs": [],
   "source": [
    "list=[1,4,5,3,2,3,4,5,4]\n",
    "unique_list=[]\n",
    "for a in list:\n",
    "    if a not in unique_list:\n",
    "        unique_list.append(a)\n",
    "print(unique_list)"
   ]
  },
  {
   "cell_type": "code",
   "execution_count": null,
   "id": "493ed382",
   "metadata": {},
   "outputs": [],
   "source": [
    "#Q:8=Write a Python program to convert a list of characters into a string"
   ]
  },
  {
   "cell_type": "code",
   "execution_count": null,
   "id": "7d1fddcc",
   "metadata": {},
   "outputs": [],
   "source": [
    "s=['a','b','c','d','e','f']\n",
    "str1=''.join(s)\n",
    "print(str1)"
   ]
  },
  {
   "cell_type": "code",
   "execution_count": null,
   "id": "1f1d6ec5",
   "metadata": {},
   "outputs": [],
   "source": [
    "#Q:9=Write a Python program to select an item randomly from a list."
   ]
  },
  {
   "cell_type": "code",
   "execution_count": null,
   "id": "94cc78c2",
   "metadata": {},
   "outputs": [],
   "source": [
    "import random\n",
    "a=['nikunj','krishil','jeel','jenil']\n",
    "print(random.choice(a))"
   ]
  },
  {
   "cell_type": "code",
   "execution_count": null,
   "id": "b599bbb2",
   "metadata": {},
   "outputs": [],
   "source": [
    "#Q:10=Write a Python program to find the second smallest number in a list"
   ]
  },
  {
   "cell_type": "markdown",
   "id": "ba96a491",
   "metadata": {},
   "source": [
    "a=[]\n",
    "size=int(input('enter size of list:'))\n",
    "for i in range(size):\n",
    "    val=int(input('enter number:'))\n",
    "    a.append(val)\n",
    "minval=min(a)\n",
    "print('min value in the list is :',minval)\n",
    "a.remove(minval)\n",
    "smin=min(a)\n",
    "print('second min value in the list=',smin)\n"
   ]
  },
  {
   "cell_type": "code",
   "execution_count": null,
   "id": "9c509a92",
   "metadata": {},
   "outputs": [],
   "source": [
    "#Q:11=Write a Python program to get unique values from a list"
   ]
  },
  {
   "cell_type": "code",
   "execution_count": null,
   "id": "bc1b726a",
   "metadata": {},
   "outputs": [],
   "source": [
    "list=[1,4,5,3,2,3,4,5,4]\n",
    "unique_list=[]\n",
    "for a in list:\n",
    "    if a not in unique_list:\n",
    "        unique_list.append(a)\n",
    "print(unique_list)"
   ]
  },
  {
   "cell_type": "code",
   "execution_count": null,
   "id": "71108227",
   "metadata": {},
   "outputs": [],
   "source": [
    "#Q:12=Write a Python program to check whether a list contains a sub list"
   ]
  },
  {
   "cell_type": "code",
   "execution_count": null,
   "id": "679a3e91",
   "metadata": {},
   "outputs": [],
   "source": [
    "list1=['a','x',[1,2,3,'khushal']]\n",
    "\n",
    "for i in list1:\n",
    "    if len(i) > 1:\n",
    "        print('sublist is present in list')\n",
    "    else:\n",
    "        print('sublist is not a present in a list')"
   ]
  },
  {
   "cell_type": "code",
   "execution_count": null,
   "id": "cbe9ad3a",
   "metadata": {},
   "outputs": [],
   "source": [
    "#Q:13=Write a Python program to split a list into different variables."
   ]
  },
  {
   "cell_type": "code",
   "execution_count": null,
   "id": "76c5af7b",
   "metadata": {},
   "outputs": [],
   "source": [
    "color=[('khushal','krishil')('mahi','ridhima')]\n",
    "var1,var2=color\n",
    "print(var1)\n",
    "print(var2)\n"
   ]
  },
  {
   "cell_type": "code",
   "execution_count": null,
   "id": "2226e370",
   "metadata": {},
   "outputs": [],
   "source": [
    "#Q:14=Write a Python program to create a tuple with different data types"
   ]
  },
  {
   "cell_type": "code",
   "execution_count": null,
   "id": "d74a1622",
   "metadata": {},
   "outputs": [],
   "source": [
    "tuplex=('tuple','Flase',3.2,2)\n",
    "print(tuplex)"
   ]
  },
  {
   "cell_type": "code",
   "execution_count": null,
   "id": "aaeefede",
   "metadata": {},
   "outputs": [],
   "source": [
    "#Q:15=Write a Python program to create a tuple with numbers"
   ]
  },
  {
   "cell_type": "code",
   "execution_count": null,
   "id": "4907543e",
   "metadata": {},
   "outputs": [],
   "source": [
    "a=(1,2,3,4,5,6)\n",
    "\n",
    "print(a[0])\n",
    "print(a[1])\n",
    "print(a[2])\n",
    "print(a[3])\n",
    "print(a[4])\n",
    "print(a[5])\n"
   ]
  },
  {
   "cell_type": "code",
   "execution_count": null,
   "id": "4ddf5d80",
   "metadata": {},
   "outputs": [],
   "source": [
    "#Q:16=Write a Python program to convert a tuple to a string"
   ]
  },
  {
   "cell_type": "code",
   "execution_count": null,
   "id": "6e23e04e",
   "metadata": {},
   "outputs": [],
   "source": [
    "t1=('k','h','u','s','h','a','l')\n",
    "str1=''\n",
    "for ele in t1:\n",
    "    str1+=ele\n",
    "print(str1)"
   ]
  },
  {
   "cell_type": "code",
   "execution_count": null,
   "id": "a0e7a39f",
   "metadata": {},
   "outputs": [],
   "source": [
    "Q:17=Write a Python program to check whether an element exists within \n",
    "a tuple."
   ]
  },
  {
   "cell_type": "code",
   "execution_count": null,
   "id": "5167709e",
   "metadata": {},
   "outputs": [],
   "source": [
    "tuplex=('t',3,'s','0')\n",
    "print('r' in tuplex)\n",
    "print('0' in tuplex)"
   ]
  },
  {
   "cell_type": "code",
   "execution_count": null,
   "id": "1909a67d",
   "metadata": {},
   "outputs": [],
   "source": [
    "#Q:18=Write a Python program to find the length of a tuple."
   ]
  },
  {
   "cell_type": "code",
   "execution_count": null,
   "id": "a48ace4e",
   "metadata": {},
   "outputs": [],
   "source": [
    "tuplex=tuple('t3so')\n",
    "print(tuplex)\n",
    "print(len(tuplex))"
   ]
  },
  {
   "cell_type": "code",
   "execution_count": null,
   "id": "7a01ab9b",
   "metadata": {},
   "outputs": [],
   "source": [
    "#Q:19=Write a Python program to convert a list to a tuple."
   ]
  },
  {
   "cell_type": "code",
   "execution_count": null,
   "id": "7f5925c8",
   "metadata": {},
   "outputs": [],
   "source": [
    "listx=[1,2,3,4,5,6,7,8,9]\n",
    "print(listx)\n",
    "tuplex=tuple(listx)\n",
    "print(tuplex)"
   ]
  },
  {
   "cell_type": "code",
   "execution_count": null,
   "id": "ebf7e67e",
   "metadata": {},
   "outputs": [],
   "source": [
    "#Q:20=Write a Python program to reverse a tuple."
   ]
  },
  {
   "cell_type": "code",
   "execution_count": null,
   "id": "31b7eeb7",
   "metadata": {},
   "outputs": [],
   "source": [
    "a=('khushal')\n",
    "y=reversed(a)\n",
    "print(tuple(y))"
   ]
  },
  {
   "cell_type": "code",
   "execution_count": null,
   "id": "61872a80",
   "metadata": {},
   "outputs": [],
   "source": [
    "#Q:21=Write a Python program to replace last value of tuples in a list"
   ]
  },
  {
   "cell_type": "code",
   "execution_count": null,
   "id": "89d2e2ea",
   "metadata": {},
   "outputs": [],
   "source": [
    "l=[(10,20,40),(40,50,60),(70,80,90)]\n",
    "print([t[:-1] + (100,) for t in l])"
   ]
  },
  {
   "cell_type": "code",
   "execution_count": null,
   "id": "8e5ee551",
   "metadata": {},
   "outputs": [],
   "source": [
    "#Q:22=Write a Python program to find the repeated items of a tuple"
   ]
  },
  {
   "cell_type": "code",
   "execution_count": null,
   "id": "d64cf534",
   "metadata": {},
   "outputs": [],
   "source": [
    "tuplex=2,4,5,6,2,3,4,4,7\n",
    "print(tuplex)\n",
    "count=tuplex.count(3)\n",
    "print(count)"
   ]
  },
  {
   "cell_type": "code",
   "execution_count": null,
   "id": "d22ac26c",
   "metadata": {},
   "outputs": [],
   "source": [
    "Q:23=Write a Python program to remove an empty tuple(s) \n",
    "from a list of tuples"
   ]
  },
  {
   "cell_type": "code",
   "execution_count": null,
   "id": "41b4905f",
   "metadata": {},
   "outputs": [],
   "source": [
    "l = [(),(),('',),('a','b'),('a','b','c'),('d')]\n",
    "l = [t for t in l if t]\n",
    "print(l)"
   ]
  },
  {
   "cell_type": "code",
   "execution_count": null,
   "id": "0c67dafa",
   "metadata": {},
   "outputs": [],
   "source": [
    "#Q:24=Write a Python program to unzip a list of tuples into individual lists."
   ]
  },
  {
   "cell_type": "code",
   "execution_count": null,
   "id": "6ccdb1bd",
   "metadata": {},
   "outputs": [],
   "source": [
    "a,b,c=(1,2,3)\n",
    "print(a)"
   ]
  },
  {
   "cell_type": "code",
   "execution_count": null,
   "id": "1e68c766",
   "metadata": {},
   "outputs": [],
   "source": [
    "#Q:25=Write a Python program to convert a list of tuples into a dictionary."
   ]
  },
  {
   "cell_type": "code",
   "execution_count": null,
   "id": "ee6a8026",
   "metadata": {},
   "outputs": [],
   "source": [
    "l=[('x',1),('x',2),('x',3),('y',1),('y',2),('y',3)]\n",
    "d={}\n",
    "for a,b in l:\n",
    "    d.setdefault(a,[]).append(b)\n",
    "print(b)"
   ]
  },
  {
   "cell_type": "code",
   "execution_count": null,
   "id": "01cb2d58",
   "metadata": {},
   "outputs": [],
   "source": [
    "Q:26=Write a Python script to sort (ascending and descending)\n",
    "a dictionary by value"
   ]
  },
  {
   "cell_type": "code",
   "execution_count": null,
   "id": "75ae9166",
   "metadata": {},
   "outputs": [],
   "source": [
    "d={1:10,2:20,3:30,4:40,5:50,6:60}\n",
    "def is_key_present(x):\n",
    "    if x in d:\n",
    "        print('key is present in the dictionary')\n",
    "    else:\n",
    "        print('key is not present in the dictionary')\n",
    "is_key_present(33)\n",
    "is_key_present(9)"
   ]
  },
  {
   "cell_type": "code",
   "execution_count": null,
   "id": "65b70012",
   "metadata": {},
   "outputs": [],
   "source": [
    "Q:27=Write a Python script to concatenate following dictionaries \n",
    "to create a new one."
   ]
  },
  {
   "cell_type": "code",
   "execution_count": null,
   "id": "c9f088fe",
   "metadata": {},
   "outputs": [],
   "source": [
    "dic1={1:10,2:20}\n",
    "dic2={3:30,4:40}\n",
    "dic3={5:50,6:60}\n",
    "dic4={}\n",
    "for d in (dic1,dic2,dic3):  dic4.update(d)\n",
    "print(dic4)\n",
    "    "
   ]
  },
  {
   "cell_type": "code",
   "execution_count": null,
   "id": "7041b092",
   "metadata": {},
   "outputs": [],
   "source": [
    "Q:28=Write a Python script to check if a given key already exists \n",
    "in a dictionary."
   ]
  },
  {
   "cell_type": "code",
   "execution_count": null,
   "id": "bed1beac",
   "metadata": {},
   "outputs": [],
   "source": [
    "d={1:10,2:20,3:30,4:40,5:50,6:60}\n",
    "def is_key_present(x):\n",
    "    if x in d:\n",
    "        print('key is present in the dictionary')\n",
    "    else:\n",
    "        print('key is not present in the dictionary')\n",
    "is_key_present(33)\n",
    "is_key_present(9)"
   ]
  },
  {
   "cell_type": "code",
   "execution_count": null,
   "id": "96f5db02",
   "metadata": {},
   "outputs": [],
   "source": [
    "Q:29=Write a Python script to print a dictionary where the keys are numbers \n",
    "    between 1 and 15."
   ]
  },
  {
   "cell_type": "code",
   "execution_count": null,
   "id": "bb5242f9",
   "metadata": {},
   "outputs": [],
   "source": [
    "l=[{'V':'S001'},{'V':'S002'},{'V':'S003'},{'V':'S004'}]\n",
    "print('orognal list:',l)\n",
    "u_value=set(val for dic in l for val in dic.values())\n",
    "print('unique values:',u_value)"
   ]
  },
  {
   "cell_type": "code",
   "execution_count": null,
   "id": "1e0eb660",
   "metadata": {},
   "outputs": [],
   "source": [
    "#Q:30=Write a Python program to check multiple keys exists in a dictionary"
   ]
  },
  {
   "cell_type": "code",
   "execution_count": null,
   "id": "bf614ef9",
   "metadata": {},
   "outputs": [],
   "source": [
    "student={\n",
    "    'class':'v',\n",
    "    'roll_id':'2'\n",
    "}\n",
    "\n",
    "print(student.keys() >={'class','name'})\n",
    "print(student.keys() >={'roll_id','name'})"
   ]
  },
  {
   "cell_type": "code",
   "execution_count": null,
   "id": "5ed8f9be",
   "metadata": {},
   "outputs": [],
   "source": [
    "#Q:31=Write a Python script to merge two Python dictionaries"
   ]
  },
  {
   "cell_type": "code",
   "execution_count": null,
   "id": "c645e7bb",
   "metadata": {},
   "outputs": [],
   "source": [
    "student={\n",
    "    'class':'v',\n",
    "    'roll_id':'2'\n",
    "}\n",
    "\n",
    "print(student.keys() >={'class','name'})\n",
    "print(student.keys() >={'roll_id','name'})"
   ]
  },
  {
   "cell_type": "code",
   "execution_count": null,
   "id": "bf3d1ee8",
   "metadata": {},
   "outputs": [],
   "source": [
    "#Q:32=Write a Python program to map two lists into a dictionary"
   ]
  },
  {
   "cell_type": "code",
   "execution_count": null,
   "id": "73ae1be5",
   "metadata": {},
   "outputs": [],
   "source": [
    "keys=['re','green','blue']\n",
    "values=['#FF000','#008000','#0000FF']\n",
    "color_dictionary=dict(zip(keys,values))\n",
    "print(color_dictionary)"
   ]
  },
  {
   "cell_type": "code",
   "execution_count": null,
   "id": "6a2f08b9",
   "metadata": {},
   "outputs": [],
   "source": [
    "#Q:33=Write a Python program to combine two dictionary adding values for common keys.\n",
    "#o d1 = {'a': 100, 'b': 200, 'c':300}\n",
    "#o d2 = {'a': 300, 'b': 200,’d’:400"
   ]
  },
  {
   "cell_type": "code",
   "execution_count": null,
   "id": "1587e433",
   "metadata": {},
   "outputs": [],
   "source": [
    "d1 = {'a': 100, 'b': 200, 'c':300}\n",
    "d2 = {'a': 300, 'b': 200,'d':400}\n",
    "for key in d1:\n",
    "    if key in d2:\n",
    "        d2[key]=d1[key]+d2[key]\n",
    "    else:\n",
    "        d2[key]=d1[key]\n",
    "print(d2)"
   ]
  },
  {
   "cell_type": "code",
   "execution_count": null,
   "id": "e3da918e",
   "metadata": {},
   "outputs": [],
   "source": [
    "#Q:34=Sample output: Counter ({'a': 400, 'b': 400,’d’: 400, 'c': 300})."
   ]
  },
  {
   "cell_type": "code",
   "execution_count": null,
   "id": "f3634fe8",
   "metadata": {},
   "outputs": [],
   "source": []
  },
  {
   "cell_type": "code",
   "execution_count": null,
   "id": "da586e21",
   "metadata": {},
   "outputs": [],
   "source": [
    "#Q:35Write a Python program to print all unique values in a dictionary"
   ]
  },
  {
   "cell_type": "code",
   "execution_count": null,
   "id": "703edc64",
   "metadata": {},
   "outputs": [],
   "source": [
    "l=[{'V':'S001'},{'V':'S002'},{'V':'S003'},{'V':'S004'}]\n",
    "print('orognal list:',l)\n",
    "u_value=set(val for dic in l for val in dic.values())\n",
    "print('unique values:',u_value)"
   ]
  },
  {
   "cell_type": "code",
   "execution_count": null,
   "id": "3da7d42c",
   "metadata": {},
   "outputs": [],
   "source": [
    "#Q:36=Write a Python program to create and display all combinations of letters,selecting each letter from a different key in a dictionary.\n",
    "#o Sample data: {'1': ['a','b'], '2': ['c','d']}\n",
    "#o Expected Output:\n",
    "#o ac ad bc bd"
   ]
  },
  {
   "cell_type": "code",
   "execution_count": null,
   "id": "ea2f409a",
   "metadata": {},
   "outputs": [],
   "source": [
    "d={'a':['a','b','c'],'b':['e','d','e']}\n",
    "l=list(d.values())\n",
    "for combo in l[1:]:\n",
    "    for i in l[0]:\n",
    "        for j in combo:\n",
    "            print(i+j)"
   ]
  },
  {
   "cell_type": "code",
   "execution_count": null,
   "id": "e8f887ba",
   "metadata": {},
   "outputs": [],
   "source": [
    "#Q:37= Write a Python program to find the highest 3 values in a dictionary"
   ]
  },
  {
   "cell_type": "code",
   "execution_count": null,
   "id": "155885cd",
   "metadata": {},
   "outputs": [],
   "source": [
    "from heapq import nlargest\n",
    "my_dict={'a':500,'b':5874,'c':560,'d':400,'e':5874}\n",
    "three_largest=nlargest(3,my_dict,key=my_dict.get)\n",
    "print(three_largest)"
   ]
  },
  {
   "cell_type": "code",
   "execution_count": null,
   "id": "bc22ed0a",
   "metadata": {},
   "outputs": [],
   "source": [
    "#Q:38=Write a Python program to combine values in python list of dictionaries. \n",
    "#Sample data: [{'item': 'item1', 'amount': 400}, {'item': 'item2', 'amount': \n",
    "#300}"
   ]
  },
  {
   "cell_type": "code",
   "execution_count": null,
   "id": "8c3d84f3",
   "metadata": {},
   "outputs": [],
   "source": [
    "list(zip(['a','b','c'],[1,2,3]))"
   ]
  },
  {
   "cell_type": "code",
   "execution_count": null,
   "id": "6e8c9040",
   "metadata": {},
   "outputs": [],
   "source": [
    "#Q:39=Write a Python program to create a dictionary from a string.\n",
    "#o Note: Track the count of the letters from the string. Sample string:\n",
    "#'w3resource'\n",
    "#o Expected output: {'3': 1,’s’: 1, 'r': 2, 'u': 1, 'w': 1, 'c': 1, 'e': 2, 'o': 1}"
   ]
  },
  {
   "cell_type": "code",
   "execution_count": 13,
   "id": "3a168d25",
   "metadata": {},
   "outputs": [
    {
     "name": "stdout",
     "output_type": "stream",
     "text": [
      "{'t': 1, '3': 1, 's': 1, 'o': 1}\n"
     ]
    }
   ],
   "source": [
    "str1='t3so'\n",
    "my_dict = {}\n",
    "for letter in str1:\n",
    "    my_dict[letter] = my_dict.get(letter,0)+1\n",
    "print(my_dict)"
   ]
  },
  {
   "cell_type": "code",
   "execution_count": null,
   "id": "0ea067fc",
   "metadata": {},
   "outputs": [],
   "source": [
    "#Q:40=Write a Python function to calculate the factorial of a number (a non\u0002negative integer)"
   ]
  },
  {
   "cell_type": "code",
   "execution_count": 14,
   "id": "c39afab5",
   "metadata": {},
   "outputs": [
    {
     "name": "stdout",
     "output_type": "stream",
     "text": [
      "enter a number:10\n",
      "the factorial of 10 is 3628800\n"
     ]
    }
   ],
   "source": [
    "def fact(num):\n",
    "    fact =1\n",
    "    if num < 0:\n",
    "        print('sorry , factorial does not exist for negative number')\n",
    "    elif num==0:\n",
    "        print('the factorial of 0 is 1')\n",
    "    else:\n",
    "        for i in range(1 , num+1):\n",
    "            fact = fact * i\n",
    "        print('the factorial of',num,'is',fact)\n",
    "h1=int(input('enter a number:'))\n",
    "fact(h1)\n",
    "            "
   ]
  },
  {
   "cell_type": "code",
   "execution_count": null,
   "id": "d2aa811c",
   "metadata": {},
   "outputs": [],
   "source": [
    "#Q:41=write a Python function to check whether a number is in a given range"
   ]
  },
  {
   "cell_type": "code",
   "execution_count": null,
   "id": "51e97394",
   "metadata": {},
   "outputs": [],
   "source": [
    "def isprime(n):\n",
    "    if (n<2):\n",
    "        return False\n",
    "    for i in range(2,n//2+1):\n",
    "        if(n%i==0):\n",
    "            return False\n",
    "        return True\n",
    "a=int(input('enter lower range:'))\n",
    "b=int(input('enter higher range:'))\n",
    "for x in range(a,b):"
   ]
  },
  {
   "cell_type": "code",
   "execution_count": null,
   "id": "247c62a1",
   "metadata": {},
   "outputs": [],
   "source": [
    "#Q:42= Write a Python function to check whether a number is perfect or not."
   ]
  },
  {
   "cell_type": "code",
   "execution_count": null,
   "id": "bfe57a48",
   "metadata": {},
   "outputs": [],
   "source": [
    "number=int(input('please enter any number:'))\n",
    "sum=0\n",
    "for i in range(1,number):\n",
    "    if (number % i ==0):\n",
    "        sum=sum+1\n",
    "if (sum==number):\n",
    "    print('perfect number')\n",
    "else:\n",
    "    print('not perfect number')"
   ]
  },
  {
   "cell_type": "code",
   "execution_count": null,
   "id": "b564f8d7",
   "metadata": {},
   "outputs": [],
   "source": [
    "#Q:43=Write a Python function that checks whether a passed string is palindrome or not"
   ]
  },
  {
   "cell_type": "code",
   "execution_count": 22,
   "id": "6db44915",
   "metadata": {},
   "outputs": [],
   "source": [
    "def palindrome(s):\n",
    "    pass\n",
    "palindrome('jfije')"
   ]
  },
  {
   "cell_type": "code",
   "execution_count": null,
   "id": "86b0e7d1",
   "metadata": {},
   "outputs": [],
   "source": []
  },
  {
   "cell_type": "code",
   "execution_count": null,
   "id": "d816d2de",
   "metadata": {},
   "outputs": [],
   "source": []
  },
  {
   "cell_type": "code",
   "execution_count": null,
   "id": "e678c4d0",
   "metadata": {},
   "outputs": [],
   "source": []
  },
  {
   "cell_type": "code",
   "execution_count": null,
   "id": "e93da7de",
   "metadata": {},
   "outputs": [],
   "source": []
  },
  {
   "cell_type": "code",
   "execution_count": null,
   "id": "86a6b6d6",
   "metadata": {},
   "outputs": [],
   "source": [
    "#Q:46= Write a Python program to convert degree to radian"
   ]
  },
  {
   "cell_type": "code",
   "execution_count": 23,
   "id": "7b4d407c",
   "metadata": {},
   "outputs": [
    {
     "name": "stdout",
     "output_type": "stream",
     "text": [
      "degree= 572.9582790879778\n"
     ]
    }
   ],
   "source": [
    "def convert(radian):\n",
    "    pi = 3.14159\n",
    "    degree = radian * (180/pi)\n",
    "    return degree\n",
    "radian=10\n",
    "print('degree=',(convert(radian)))"
   ]
  },
  {
   "cell_type": "code",
   "execution_count": null,
   "id": "96165273",
   "metadata": {},
   "outputs": [],
   "source": [
    "#Q:47= Write a Python program to calculate the area of a trapezoid"
   ]
  },
  {
   "cell_type": "markdown",
   "id": "993d885d",
   "metadata": {},
   "source": [
    "# def area_of_trapezoid(upper,lower,height):\n",
    "    trap=(upper+lower) * (height/2)\n",
    "    print('area of trapezoid=',trap)\n",
    "    \n",
    "upper_base=float(input('enter upper base:'))\n",
    "lower_base=float(input('enter lower base:'))\n",
    "height=float(input('enter heighte:'))\n",
    "\n",
    "area_of_trapezoid(upper_base,lower_base,height)"
   ]
  },
  {
   "cell_type": "code",
   "execution_count": null,
   "id": "cd67bf95",
   "metadata": {},
   "outputs": [],
   "source": [
    "#Q:48= Write a Python program to calculate the area of a parallelogram"
   ]
  },
  {
   "cell_type": "code",
   "execution_count": null,
   "id": "3a2fa73f",
   "metadata": {},
   "outputs": [],
   "source": [
    "def area_of_parallelogram(base,height):\n",
    "    print('area of parallelogram = ',base*height)\n",
    "\n",
    "base = float(input('enter base : '))\n",
    "height = float(input('enter height : '))\n",
    "\n",
    "area_of_parallelogram(base,height)\n"
   ]
  },
  {
   "cell_type": "code",
   "execution_count": null,
   "id": "6e1ae9fd",
   "metadata": {},
   "outputs": [],
   "source": [
    "#Q:49= Write a Python program to calculate surface volume and area of a cylinder"
   ]
  },
  {
   "cell_type": "code",
   "execution_count": null,
   "id": "3cf7f868",
   "metadata": {},
   "outputs": [],
   "source": []
  },
  {
   "cell_type": "code",
   "execution_count": null,
   "id": "8d4e8239",
   "metadata": {},
   "outputs": [],
   "source": [
    "#Q:50= Write a Python program to returns sum of all divisors of a number"
   ]
  },
  {
   "cell_type": "code",
   "execution_count": null,
   "id": "fa8c6af1",
   "metadata": {},
   "outputs": [],
   "source": []
  },
  {
   "cell_type": "code",
   "execution_count": 1,
   "id": "aad00edd",
   "metadata": {},
   "outputs": [],
   "source": [
    "#Q:51=Write a Python program to find the maximum and minimum numbers \n",
    "#from the specified decimal numbers."
   ]
  },
  {
   "cell_type": "code",
   "execution_count": 3,
   "id": "fa158338",
   "metadata": {},
   "outputs": [
    {
     "name": "stdout",
     "output_type": "stream",
     "text": [
      "enter size of the list:10\n",
      "enter number:2\n"
     ]
    },
    {
     "ename": "NameError",
     "evalue": "name 'a' is not defined",
     "output_type": "error",
     "traceback": [
      "\u001b[1;31m---------------------------------------------------------------------------\u001b[0m",
      "\u001b[1;31mNameError\u001b[0m                                 Traceback (most recent call last)",
      "Input \u001b[1;32mIn [3]\u001b[0m, in \u001b[0;36m<cell line: 2>\u001b[1;34m()\u001b[0m\n\u001b[0;32m      2\u001b[0m \u001b[38;5;28;01mfor\u001b[39;00m i \u001b[38;5;129;01min\u001b[39;00m \u001b[38;5;28mrange\u001b[39m(size):\n\u001b[0;32m      3\u001b[0m     val\u001b[38;5;241m=\u001b[39m\u001b[38;5;28mint\u001b[39m(\u001b[38;5;28minput\u001b[39m(\u001b[38;5;124m'\u001b[39m\u001b[38;5;124menter number:\u001b[39m\u001b[38;5;124m'\u001b[39m))\n\u001b[1;32m----> 4\u001b[0m     \u001b[43ma\u001b[49m\u001b[38;5;241m.\u001b[39mappend(val)\n\u001b[0;32m      5\u001b[0m \u001b[38;5;28mmax\u001b[39m\u001b[38;5;241m=\u001b[39ma[\u001b[38;5;241m0\u001b[39m]\n\u001b[0;32m      6\u001b[0m \u001b[38;5;28;01mfor\u001b[39;00m i \u001b[38;5;129;01min\u001b[39;00m \u001b[38;5;28mrange\u001b[39m(size):\n",
      "\u001b[1;31mNameError\u001b[0m: name 'a' is not defined"
     ]
    }
   ],
   "source": [
    "size=int(input('enter size of the list:'))\n",
    "for i in range(size):\n",
    "    val=int(input('enter number:'))\n",
    "    a.append(val)\n",
    "max=a[0]\n",
    "for i in range(size):\n",
    "    if (a[i]>max):\n",
    "        max=a[i]\n",
    "print('max number=',max)"
   ]
  }
 ],
 "metadata": {
  "kernelspec": {
   "display_name": "Python 3 (ipykernel)",
   "language": "python",
   "name": "python3"
  },
  "language_info": {
   "codemirror_mode": {
    "name": "ipython",
    "version": 3
   },
   "file_extension": ".py",
   "mimetype": "text/x-python",
   "name": "python",
   "nbconvert_exporter": "python",
   "pygments_lexer": "ipython3",
   "version": "3.9.12"
  }
 },
 "nbformat": 4,
 "nbformat_minor": 5
}
