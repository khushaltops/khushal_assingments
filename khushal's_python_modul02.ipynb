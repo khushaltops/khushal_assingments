{
 "cells": [
  {
   "cell_type": "code",
   "execution_count": null,
   "id": "45a083d3",
   "metadata": {},
   "outputs": [],
   "source": [
    "#Q:1=Write a Python program to check if a number is positive, negative or zero."
   ]
  },
  {
   "cell_type": "code",
   "execution_count": null,
   "id": "5497e376",
   "metadata": {},
   "outputs": [],
   "source": [
    "a=int(input())\n",
    "\n",
    "if a>0:\n",
    "    print('number is positive')\n",
    "elif a==0:\n",
    "    print('zero')\n",
    "else:\n",
    "    print('number is negative')"
   ]
  },
  {
   "cell_type": "code",
   "execution_count": null,
   "id": "81295fc9",
   "metadata": {},
   "outputs": [],
   "source": [
    "#Q:2=Write a Python program to get the Factorial number of given number."
   ]
  },
  {
   "cell_type": "markdown",
   "id": "8b0ba840",
   "metadata": {},
   "source": []
  },
  {
   "cell_type": "code",
   "execution_count": null,
   "id": "c14663e1",
   "metadata": {},
   "outputs": [],
   "source": [
    "a=int(input())\n",
    "\n",
    "fac=1\n",
    "\n",
    "while(a>0):\n",
    "    fac=fac*a\n",
    "    a=a-1\n",
    "print('factorial=',fac)"
   ]
  },
  {
   "cell_type": "code",
   "execution_count": null,
   "id": "e5f81b88",
   "metadata": {},
   "outputs": [],
   "source": [
    "#Q:3=Write a Python program to get the Fibonacci series of given range"
   ]
  },
  {
   "cell_type": "code",
   "execution_count": null,
   "id": "a4f5cd2a",
   "metadata": {},
   "outputs": [],
   "source": [
    "a=int(input())\n",
    "\n",
    "x=0\n",
    "y=1\n",
    "z=0\n",
    "\n",
    "while(z<=a):\n",
    "    print(z)\n",
    "    x=y\n",
    "    y=z\n",
    "    z=x+y"
   ]
  },
  {
   "cell_type": "code",
   "execution_count": null,
   "id": "6db12a46",
   "metadata": {},
   "outputs": [],
   "source": [
    "Q:4= Write python program that swap two number with temp \n",
    "variable and without temp variable."
   ]
  },
  {
   "cell_type": "code",
   "execution_count": null,
   "id": "90a1eb8c",
   "metadata": {},
   "outputs": [],
   "source": [
    "a=10\n",
    "b=20\n",
    "\n",
    "print(a,b)\n",
    "\n",
    "c=a\n",
    "a=b\n",
    "b=c\n",
    "\n",
    "print(a,b)"
   ]
  },
  {
   "cell_type": "code",
   "execution_count": null,
   "id": "e4a7b12e",
   "metadata": {},
   "outputs": [],
   "source": [
    "a=10\n",
    "b=20\n",
    "\n",
    "print(a,b)\n",
    "\n",
    "a,b=b,a\n",
    "\n",
    "print(a,b)"
   ]
  },
  {
   "cell_type": "code",
   "execution_count": null,
   "id": "1d80f915",
   "metadata": {},
   "outputs": [],
   "source": [
    "Q:5=Write a Python program to find whether a given number is even or odd, \n",
    "print out an appropriate message to the user."
   ]
  },
  {
   "cell_type": "code",
   "execution_count": null,
   "id": "06ec3f28",
   "metadata": {},
   "outputs": [],
   "source": [
    "a=int(input())\n",
    "\n",
    "if a%2==0:\n",
    "    print('even number')\n",
    "else:\n",
    "    print('odd number')"
   ]
  },
  {
   "cell_type": "code",
   "execution_count": null,
   "id": "72ac73aa",
   "metadata": {},
   "outputs": [],
   "source": [
    "Q:6=Write a Python program to test whether a passed letter is a \n",
    "vowel or not."
   ]
  },
  {
   "cell_type": "code",
   "execution_count": 2,
   "id": "473ca9a3",
   "metadata": {},
   "outputs": [
    {
     "ename": "IndentationError",
     "evalue": "unindent does not match any outer indentation level (<tokenize>, line 8)",
     "output_type": "error",
     "traceback": [
      "\u001b[1;36m  File \u001b[1;32m<tokenize>:8\u001b[1;36m\u001b[0m\n\u001b[1;33m    count=count+1\u001b[0m\n\u001b[1;37m    ^\u001b[0m\n\u001b[1;31mIndentationError\u001b[0m\u001b[1;31m:\u001b[0m unindent does not match any outer indentation level\n"
     ]
    }
   ],
   "source": [
    "a=int(input())\n",
    "    \n",
    "count=0\n",
    "\n",
    "for b in a:\n",
    "    if i=='a' or i=='e' or i=='i' or i=='o' or i=='u':\n",
    "            print(b)\n",
    "        count=count+1\n",
    "if count == 0:\n",
    "    print('that is not vowel')"
   ]
  },
  {
   "cell_type": "code",
   "execution_count": null,
   "id": "f73bb72d",
   "metadata": {},
   "outputs": [],
   "source": [
    "Q:7= Write a Python program to sum of three given integers.However, if two \n",
    "values are equal sum will be zero"
   ]
  },
  {
   "cell_type": "code",
   "execution_count": null,
   "id": "99870863",
   "metadata": {},
   "outputs": [],
   "source": [
    "a=int(input())\n",
    "b=int(input())\n",
    "c=int(input())\n",
    "\n",
    "if a==b or b==c or c==a or a+b+c==0:\n",
    "    print('true')\n",
    "    else:\n",
    "        print('false')\n",
    "        "
   ]
  },
  {
   "cell_type": "code",
   "execution_count": null,
   "id": "ba6d3c9c",
   "metadata": {},
   "outputs": [],
   "source": [
    "Q:8=Write a Python program that will return true if the two given integervalues \n",
    "are equal or their sum or difference is 5"
   ]
  },
  {
   "cell_type": "code",
   "execution_count": null,
   "id": "6897758c",
   "metadata": {},
   "outputs": [],
   "source": [
    "a=int(input())\n",
    "b=int(input())\n",
    "\n",
    "if a==b or a+b==5 or a-b==5:\n",
    "    print('true')\n",
    "else:\n",
    "    print('false')"
   ]
  },
  {
   "cell_type": "code",
   "execution_count": null,
   "id": "012baa75",
   "metadata": {},
   "outputs": [],
   "source": [
    "#Q:9=Write a python program to sum of the first n positive integers."
   ]
  },
  {
   "cell_type": "code",
   "execution_count": null,
   "id": "6bd20a68",
   "metadata": {},
   "outputs": [],
   "source": [
    "a=int(input())\n",
    "a=(a*1)\n",
    "print('positive integer:',a)"
   ]
  },
  {
   "cell_type": "code",
   "execution_count": null,
   "id": "e36ad976",
   "metadata": {},
   "outputs": [],
   "source": [
    "#Q:10=Write a Python program to calculate the length of a string"
   ]
  },
  {
   "cell_type": "code",
   "execution_count": null,
   "id": "13134942",
   "metadata": {},
   "outputs": [],
   "source": [
    "a='khushal kothiya'\n",
    "b=len('khushal kothiya')\n",
    "print(b)"
   ]
  },
  {
   "cell_type": "code",
   "execution_count": null,
   "id": "b64a4060",
   "metadata": {},
   "outputs": [],
   "source": [
    "Q:11= Write a Python program to count the number of characters \n",
    "(character frequency) in a string"
   ]
  },
  {
   "cell_type": "code",
   "execution_count": null,
   "id": "6613af99",
   "metadata": {},
   "outputs": [],
   "source": [
    "a=[]\n",
    "b=int(input('enter size of list:'))\n",
    "for i in range(a):\n",
    "    val=int(input('enter number:'))\n",
    "    a.append(val)\n",
    "key=int(input('enter number to find frequency:'))\n",
    "count=0\n",
    "for i in range(b):\n",
    "    if(a[i]==key):\n",
    "        count=count+1\n",
    "print('frequency=',count)"
   ]
  },
  {
   "cell_type": "code",
   "execution_count": null,
   "id": "433bd3ba",
   "metadata": {},
   "outputs": [],
   "source": [
    "#Q:12=Write a Python program to count occurrences of a substring in a string."
   ]
  },
  {
   "cell_type": "code",
   "execution_count": null,
   "id": "87064d1c",
   "metadata": {},
   "outputs": [],
   "source": [
    "a='kothiya khushal pravinbhai'\n",
    "\n",
    "print(a[0:15])\n",
    "print(a[16:25])"
   ]
  },
  {
   "cell_type": "code",
   "execution_count": null,
   "id": "9cf034d9",
   "metadata": {},
   "outputs": [],
   "source": [
    "Q:13=Write a Python program to count the occurrences of each word \n",
    "in a given sentence"
   ]
  },
  {
   "cell_type": "code",
   "execution_count": null,
   "id": "c72d2c3f",
   "metadata": {},
   "outputs": [],
   "source": [
    "str=input('enter line of string')\n",
    "str=str.split()\n",
    "i=0\n",
    "count=0\n",
    "while i<len(str):\n",
    "    if str[i]==j:\n",
    "        count=count+1\n",
    "print(str[i],'present',count,'times')\n",
    "\n",
    "i=i+1"
   ]
  },
  {
   "cell_type": "code",
   "execution_count": null,
   "id": "35ddaeaf",
   "metadata": {},
   "outputs": [],
   "source": [
    "Q:14= Write a Python program to get a single string from two given \n",
    "strings,separated by a space and swap the first two characters of each string."
   ]
  },
  {
   "cell_type": "code",
   "execution_count": null,
   "id": "ee8330b9",
   "metadata": {},
   "outputs": [],
   "source": [
    "v2,v1='abcd','rstu'\n",
    "temp=v2\n",
    "v2=v1[0:2]+v2[2:]\n",
    "v1=temp[0:2]+v1[2:]\n",
    "print(v2+' '+v1)"
   ]
  },
  {
   "cell_type": "code",
   "execution_count": null,
   "id": "c7a7f98f",
   "metadata": {},
   "outputs": [],
   "source": [
    "Q:15= Write a Python program to add 'ing' at the end of a given string \n",
    "(length should be at least 3). If the given string already ends with 'ing' then \n",
    "add 'ly'insteadif the string length of the given string is less than 3, leave itunchanged."
   ]
  },
  {
   "cell_type": "code",
   "execution_count": null,
   "id": "f81593fe",
   "metadata": {},
   "outputs": [],
   "source": [
    "a='abc'\n",
    "\n",
    "if len(a)>2:\n",
    "    if a.endwith('ing'):\n",
    "        a+='ly'\n",
    "    else:\n",
    "        a+='ing'\n",
    "print(a)"
   ]
  },
  {
   "cell_type": "code",
   "execution_count": null,
   "id": "83e64baf",
   "metadata": {},
   "outputs": [],
   "source": [
    "Q:16= Write a Python program to find the first appearance of the substring \n",
    "'not'and 'poor' froma given string, if 'not' follows the 'poor', replace the \n",
    "whole'not'...'poor'substring with 'good'. Return the resulting string"
   ]
  },
  {
   "cell_type": "code",
   "execution_count": null,
   "id": "58b07aa7",
   "metadata": {},
   "outputs": [],
   "source": [
    "def not_poor(str1):\n",
    "    snot=str1.find('not')\n",
    "    spoor=str1.find('poor')\n",
    "    \n",
    "    if spoor > snot and snot > 0 and spoor > 0:\n",
    "        str1 = str1.replace(str1[snot:(spoor+4)],good)\n",
    "        print=('str1')\n",
    "    else:\n",
    "        print('str1')\n",
    "        \n",
    "print('the lyrics is not that poor!')\n",
    "print('the lyrics is poor!')"
   ]
  },
  {
   "cell_type": "code",
   "execution_count": null,
   "id": "f9cb1667",
   "metadata": {},
   "outputs": [],
   "source": [
    "#Q:17= Write a Python function that takes a list of words and returns the length of the longest one.\n"
   ]
  },
  {
   "cell_type": "code",
   "execution_count": null,
   "id": "65bd219d",
   "metadata": {},
   "outputs": [],
   "source": []
  },
  {
   "cell_type": "code",
   "execution_count": null,
   "id": "a0ef087e",
   "metadata": {},
   "outputs": [],
   "source": [
    "#Q:18=  Write a Python function to reverses a string if its length is a multiple of 4"
   ]
  },
  {
   "cell_type": "code",
   "execution_count": null,
   "id": "0e57ad0e",
   "metadata": {},
   "outputs": [],
   "source": []
  },
  {
   "cell_type": "code",
   "execution_count": null,
   "id": "1ccac01b",
   "metadata": {},
   "outputs": [],
   "source": [
    "#Q:19= Write a Python program to get a string made of the first 2 and the last 2\n",
    "#chars from a given a string. If the string length islessthan 2,return instead\n",
    "#of the empty string.\n",
    "#o Sample String:w3resource'\n",
    "#o Expected Result: 'w3ce'\n",
    "#o Sample String: 'w3'\n",
    "#o Expected Result: 'w3w3'\n",
    "#o Sample String: ' w'\n",
    "#o Expected Result: Empty String"
   ]
  },
  {
   "cell_type": "code",
   "execution_count": null,
   "id": "736834c9",
   "metadata": {},
   "outputs": [],
   "source": []
  },
  {
   "cell_type": "code",
   "execution_count": 1,
   "id": "9ee01b9d",
   "metadata": {},
   "outputs": [],
   "source": [
    "#Q:20= Write a Python function to insert a string in the middle of a string."
   ]
  },
  {
   "cell_type": "code",
   "execution_count": null,
   "id": "eae03203",
   "metadata": {},
   "outputs": [],
   "source": []
  }
 ],
 "metadata": {
  "kernelspec": {
   "display_name": "Python 3 (ipykernel)",
   "language": "python",
   "name": "python3"
  },
  "language_info": {
   "codemirror_mode": {
    "name": "ipython",
    "version": 3
   },
   "file_extension": ".py",
   "mimetype": "text/x-python",
   "name": "python",
   "nbconvert_exporter": "python",
   "pygments_lexer": "ipython3",
   "version": "3.9.12"
  }
 },
 "nbformat": 4,
 "nbformat_minor": 5
}
