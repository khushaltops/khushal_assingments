{
 "cells": [
  {
   "cell_type": "code",
   "execution_count": null,
   "id": "2a327b10",
   "metadata": {},
   "outputs": [],
   "source": [
    "# Q:1:What is File function in python? What is keywords to create and write file.\n",
    "\n",
    "with open('new.txt','w') as f1:\n",
    "    s='kothiya khushal pravinbhai'\n",
    "    f1.write(s)"
   ]
  },
  {
   "cell_type": "code",
   "execution_count": null,
   "id": "425e063e",
   "metadata": {},
   "outputs": [],
   "source": [
    "# Q:2:Write a Python program to read an entire text file.\n",
    "\n",
    "with open('new.txt','r') as f1:\n",
    "    print(f1.read())"
   ]
  },
  {
   "cell_type": "code",
   "execution_count": null,
   "id": "d97416e5",
   "metadata": {},
   "outputs": [],
   "source": [
    "# Q:3:Write a Python program to append text to a file and display the text\n",
    "\n",
    "with open('new.txt','a') as f1:\n",
    "    f1.write('kothiya rahul vaidya')"
   ]
  },
  {
   "cell_type": "code",
   "execution_count": null,
   "id": "1ff6211f",
   "metadata": {},
   "outputs": [],
   "source": [
    "# Q:4:Write a Python program to read first n lines of a file.\n",
    "\n",
    "with open ('new.txt','r') as f1:\n",
    "    print(f1.readlines())"
   ]
  },
  {
   "cell_type": "code",
   "execution_count": null,
   "id": "16a95a10",
   "metadata": {},
   "outputs": [],
   "source": [
    "# Q:5:Write a Python program to read last n lines of a file.\n",
    "\n",
    "with open ('new.txt') as f:\n",
    "    for i in f:\n",
    "        print(i)"
   ]
  },
  {
   "cell_type": "code",
   "execution_count": null,
   "id": "b3f14e5b",
   "metadata": {},
   "outputs": [],
   "source": [
    "# Q:6:Write a Python program to read a file line by line and store it into a list\n",
    "\n",
    "with open('new.txt','r') as f1:\n",
    "    list=[]\n",
    "    for i in f1:\n",
    "        list.append(i.strip())\n",
    "        print(list)"
   ]
  },
  {
   "cell_type": "code",
   "execution_count": null,
   "id": "7bd58ac9",
   "metadata": {},
   "outputs": [],
   "source": [
    "#Q:7:Write a Python program to read a file line by line store it into a variable.\n",
    "\n",
    "with open('khusha.txt','r') as f1:\n",
    "    print(f1.tell())\n",
    "    file_content=f1.read()\n",
    "    print(f1.tell())"
   ]
  },
  {
   "cell_type": "code",
   "execution_count": null,
   "id": "6da01ffc",
   "metadata": {},
   "outputs": [],
   "source": [
    "#Q:8:Write a python program to find the longest words.\n",
    "\n",
    "l=['no','country','for','old','men']\n",
    "m=0\n",
    "w=none\n",
    "for i in range(len(l)):\n",
    "    if len(l[i])>m:\n",
    "        word = l[i]\n",
    "        m=len(l[i])\n",
    "print('longest word in the list is',word)"
   ]
  },
  {
   "cell_type": "code",
   "execution_count": null,
   "id": "7a56a29a",
   "metadata": {},
   "outputs": [],
   "source": [
    "#Q:9:Write a Python program to count the number of lines in a text file.\n",
    "\n",
    "word_count=0\n",
    "\n",
    "file_name = 'kothiya khushal pravinbhai'\n",
    "\n",
    "with open (file_name,'r') as file:\n",
    "    for line in file:\n",
    "        word_count += len (line.split())\n",
    "        \n",
    "print('number of words:',word_count)"
   ]
  },
  {
   "cell_type": "code",
   "execution_count": 1,
   "id": "194077c1",
   "metadata": {},
   "outputs": [
    {
     "ename": "FileNotFoundError",
     "evalue": "[Errno 2] No such file or directory: 'name.txt'",
     "output_type": "error",
     "traceback": [
      "\u001b[1;31m---------------------------------------------------------------------------\u001b[0m",
      "\u001b[1;31mFileNotFoundError\u001b[0m                         Traceback (most recent call last)",
      "Input \u001b[1;32mIn [1]\u001b[0m, in \u001b[0;36m<cell line: 3>\u001b[1;34m()\u001b[0m\n\u001b[0;32m      1\u001b[0m \u001b[38;5;66;03m#Q:10:Write a Python program to count the frequency of words in a file\u001b[39;00m\n\u001b[0;32m      2\u001b[0m count \u001b[38;5;241m=\u001b[39m \u001b[38;5;241m0\u001b[39m\n\u001b[1;32m----> 3\u001b[0m file \u001b[38;5;241m=\u001b[39m \u001b[38;5;28;43mopen\u001b[39;49m\u001b[43m(\u001b[49m\u001b[38;5;124;43m'\u001b[39;49m\u001b[38;5;124;43mname.txt\u001b[39;49m\u001b[38;5;124;43m'\u001b[39;49m\u001b[43m,\u001b[49m\u001b[38;5;124;43m'\u001b[39;49m\u001b[38;5;124;43mr\u001b[39;49m\u001b[38;5;124;43m'\u001b[39;49m\u001b[43m)\u001b[49m\n\u001b[0;32m      4\u001b[0m read_data\u001b[38;5;241m=\u001b[39mfile\u001b[38;5;241m.\u001b[39mread()\n\u001b[0;32m      5\u001b[0m word_data\u001b[38;5;241m=\u001b[39m(read_data\u001b[38;5;241m.\u001b[39msplit())\n",
      "\u001b[1;31mFileNotFoundError\u001b[0m: [Errno 2] No such file or directory: 'name.txt'"
     ]
    }
   ],
   "source": [
    "#Q:10:Write a Python program to count the frequency of words in a file\n",
    "count = 0\n",
    "file = open('name.txt','r')\n",
    "read_data=file.read()\n",
    "word_data=(read_data.split())\n",
    "for word in words:\n",
    "    count +=1\n",
    "    \n",
    "print('total unique words:',count)\n",
    "    \n"
   ]
  },
  {
   "cell_type": "code",
   "execution_count": null,
   "id": "ca1f0db8",
   "metadata": {},
   "outputs": [],
   "source": [
    "#Q:11:Write a Python program to write a list to a file."
   ]
  },
  {
   "cell_type": "code",
   "execution_count": null,
   "id": "1deaba57",
   "metadata": {},
   "outputs": [],
   "source": [
    "#Q:12:Write a Python program to copy the contents of a file to another file"
   ]
  },
  {
   "cell_type": "code",
   "execution_count": null,
   "id": "06a7ce02",
   "metadata": {},
   "outputs": [],
   "source": []
  },
  {
   "cell_type": "code",
   "execution_count": null,
   "id": "5c5b092b",
   "metadata": {},
   "outputs": [],
   "source": []
  },
  {
   "cell_type": "code",
   "execution_count": null,
   "id": "407e226b",
   "metadata": {},
   "outputs": [],
   "source": []
  },
  {
   "cell_type": "code",
   "execution_count": null,
   "id": "39c97840",
   "metadata": {},
   "outputs": [],
   "source": [
    "#Q:16:Write python program that user to enter only odd numbers, else will raise an exception."
   ]
  },
  {
   "cell_type": "code",
   "execution_count": null,
   "id": "8790b7c6",
   "metadata": {},
   "outputs": [],
   "source": [
    "#Q:17: Write a Python class named Rectangle constructed by a length and width and a method which will compute the area of a rectangle"
   ]
  },
  {
   "cell_type": "code",
   "execution_count": null,
   "id": "ee01a0a5",
   "metadata": {},
   "outputs": [],
   "source": [
    "#Q:18:Write a Python class named Circle constructed by a radius and two methods which will compute the area and the perimeter of a circle"
   ]
  },
  {
   "cell_type": "code",
   "execution_count": null,
   "id": "bf0efe4a",
   "metadata": {},
   "outputs": [],
   "source": [
    "#Q:19:Write a Python class named Circle constructed by a radius and two methods which will compute the area and the perimeter of a circle"
   ]
  },
  {
   "cell_type": "code",
   "execution_count": null,
   "id": "fa394c81",
   "metadata": {},
   "outputs": [],
   "source": []
  },
  {
   "cell_type": "code",
   "execution_count": null,
   "id": "8ab033ef",
   "metadata": {},
   "outputs": [],
   "source": []
  }
 ],
 "metadata": {
  "kernelspec": {
   "display_name": "Python 3 (ipykernel)",
   "language": "python",
   "name": "python3"
  },
  "language_info": {
   "codemirror_mode": {
    "name": "ipython",
    "version": 3
   },
   "file_extension": ".py",
   "mimetype": "text/x-python",
   "name": "python",
   "nbconvert_exporter": "python",
   "pygments_lexer": "ipython3",
   "version": "3.9.12"
  }
 },
 "nbformat": 4,
 "nbformat_minor": 5
}
